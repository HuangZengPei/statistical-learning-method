{
 "cells": [
  {
   "cell_type": "code",
   "execution_count": 1,
   "metadata": {},
   "outputs": [],
   "source": [
    "import numpy as np\n",
    "import pandas as pd\n",
    "import matplotlib.pyplot as plt\n",
    "%matplotlib inline\n",
    "\n",
    "from sklearn.datasets import load_iris\n",
    "from sklearn.model_selection import train_test_split\n",
    "\n",
    "from collections import Counter\n",
    "import math"
   ]
  },
  {
   "cell_type": "code",
   "execution_count": 2,
   "metadata": {},
   "outputs": [],
   "source": [
    "def create_data():\n",
    "    iris = load_iris()\n",
    "    df = pd.DataFrame(iris.data, columns=iris.feature_names)\n",
    "    df['label'] = iris.target\n",
    "    df.columns = ['sepal length', 'sepal width', 'petal length', 'petal width', 'label']\n",
    "    data = np.array(df.iloc[:100, :])\n",
    "    # print(data)\n",
    "    return data[:,:-1], data[:,-1]"
   ]
  },
  {
   "cell_type": "code",
   "execution_count": 3,
   "metadata": {},
   "outputs": [],
   "source": [
    "X, y = create_data()\n",
    "X_train, X_test, y_train, y_test = train_test_split(X, y, test_size=0.3)"
   ]
  },
  {
   "cell_type": "code",
   "execution_count": 9,
   "metadata": {},
   "outputs": [],
   "source": [
    "def summarize(train_data):\n",
    "        summaries = [(mean(i), stdev(i)) for i in zip(*train_data)]"
   ]
  },
  {
   "cell_type": "code",
   "execution_count": 10,
   "metadata": {},
   "outputs": [],
   "source": [
    "def fit(X, y):\n",
    "        labels = list(set(y))\n",
    "        data = {label:[] for label in labels}\n",
    "        print (data)\n",
    "        for f, label in zip(X, y):\n",
    "            data[label].append(f)\n",
    "        model = {label: summarize(value) for label, value in data.items()}\n",
    "        return 'gaussianNB train done!'"
   ]
  },
  {
   "cell_type": "code",
   "execution_count": 8,
   "metadata": {},
   "outputs": [],
   "source": [
    "def calculate_probabilities(input_data):\n",
    "    # summaries:{0.0: [(5.0, 0.37),(3.42, 0.40)], 1.0: [(5.8, 0.449),(2.7, 0.27)]}\n",
    "    # input_data:[1.1, 2.2]\n",
    "    probabilities = {}\n",
    "    for label, value in self.model.items():\n",
    "        probabilities[label] = 1\n",
    "        for i in range(len(value)):\n",
    "            mean, stdev = value[i]\n",
    "            probabilities[label] *= self.gaussian_probability(input_data[i], mean, stdev)\n",
    "    return probabilities"
   ]
  },
  {
   "cell_type": "code",
   "execution_count": 12,
   "metadata": {},
   "outputs": [
    {
     "name": "stdout",
     "output_type": "stream",
     "text": [
      "{0.0: [], 1.0: []}\n",
      "-------------\n",
      "{0.0: [array([5. , 3. , 1.6, 0.2]), array([4.4, 3. , 1.3, 0.2]), array([5.1, 3.8, 1.5, 0.3]), array([5. , 3.5, 1.6, 0.6]), array([5. , 3.6, 1.4, 0.2]), array([5.2, 3.5, 1.5, 0.2]), array([5.3, 3.7, 1.5, 0.2]), array([5.5, 3.5, 1.3, 0.2]), array([5.1, 3.7, 1.5, 0.4]), array([5. , 3.5, 1.3, 0.3]), array([4.7, 3.2, 1.3, 0.2]), array([4.9, 3.1, 1.5, 0.1]), array([5.1, 3.4, 1.5, 0.2]), array([4.4, 3.2, 1.3, 0.2]), array([5.4, 3.4, 1.5, 0.4]), array([4.8, 3.1, 1.6, 0.2]), array([5. , 3.2, 1.2, 0.2]), array([5.4, 3.9, 1.3, 0.4]), array([5.1, 3.8, 1.9, 0.4]), array([5.7, 4.4, 1.5, 0.4]), array([4.6, 3.1, 1.5, 0.2]), array([5.8, 4. , 1.2, 0.2]), array([5.1, 3.8, 1.6, 0.2]), array([4.9, 3.6, 1.4, 0.1]), array([5.4, 3.7, 1.5, 0.2]), array([4.8, 3. , 1.4, 0.1]), array([5.1, 3.5, 1.4, 0.3]), array([4.3, 3. , 1.1, 0.1]), array([4.7, 3.2, 1.6, 0.2]), array([4.5, 2.3, 1.3, 0.3]), array([4.6, 3.2, 1.4, 0.2]), array([5.1, 3.3, 1.7, 0.5]), array([5.5, 4.2, 1.4, 0.2]), array([5.7, 3.8, 1.7, 0.3]), array([5.4, 3.9, 1.7, 0.4]), array([4.8, 3. , 1.4, 0.3]), array([5. , 3.4, 1.5, 0.2])], 1.0: [array([5.8, 2.7, 3.9, 1.2]), array([5.2, 2.7, 3.9, 1.4]), array([7. , 3.2, 4.7, 1.4]), array([6. , 3.4, 4.5, 1.6]), array([5.7, 2.8, 4.5, 1.3]), array([5.5, 2.4, 3.7, 1. ]), array([5.5, 2.6, 4.4, 1.2]), array([6.5, 2.8, 4.6, 1.5]), array([6.1, 3. , 4.6, 1.4]), array([5.6, 2.5, 3.9, 1.1]), array([6.1, 2.9, 4.7, 1.4]), array([6.3, 2.3, 4.4, 1.3]), array([5.6, 3. , 4.1, 1.3]), array([6. , 2.2, 4. , 1. ]), array([6.6, 3. , 4.4, 1.4]), array([6.3, 2.5, 4.9, 1.5]), array([5.6, 3. , 4.5, 1.5]), array([5.9, 3.2, 4.8, 1.8]), array([6.9, 3.1, 4.9, 1.5]), array([5. , 2. , 3.5, 1. ]), array([5.7, 2.6, 3.5, 1. ]), array([5.7, 2.8, 4.1, 1.3]), array([6. , 2.7, 5.1, 1.6]), array([5.6, 2.7, 4.2, 1.3]), array([6.1, 2.8, 4. , 1.3]), array([6.2, 2.9, 4.3, 1.3]), array([6.1, 2.8, 4.7, 1.2]), array([6.7, 3. , 5. , 1.7]), array([5.6, 2.9, 3.6, 1.3]), array([5.9, 3. , 4.2, 1.5]), array([5.5, 2.5, 4. , 1.3]), array([6.2, 2.2, 4.5, 1.5]), array([5.7, 3. , 4.2, 1.2])]}\n"
     ]
    }
   ],
   "source": [
    "labels = list(set(y_train))\n",
    "data = {label:[] for label in labels}\n",
    "print (data)\n",
    "for f, label in zip(X_train, y_train):\n",
    "    data[label].append(f)\n",
    "\n",
    "print('-------------')\n",
    "print (data)"
   ]
  },
  {
   "cell_type": "code",
   "execution_count": 22,
   "metadata": {},
   "outputs": [],
   "source": [
    "def mean(X):\n",
    "    return sum(X) / float(len(X))\n",
    "    \n",
    "def stdev(X):\n",
    "    avg = mean(X)\n",
    "    return math.sqrt(sum([pow(x - avg,2) for x in X]) / float(len(X)))"
   ]
  },
  {
   "cell_type": "code",
   "execution_count": 23,
   "metadata": {},
   "outputs": [
    {
     "name": "stdout",
     "output_type": "stream",
     "text": [
      "{0.0: None, 1.0: None}\n"
     ]
    }
   ],
   "source": [
    "model = {label: summarize(value) for label, value in data.items()}\n",
    "print (model)"
   ]
  },
  {
   "cell_type": "code",
   "execution_count": 30,
   "metadata": {},
   "outputs": [
    {
     "ename": "TypeError",
     "evalue": "values() takes no arguments (1 given)",
     "output_type": "error",
     "traceback": [
      "\u001b[0;31m---------------------------------------------------------------------------\u001b[0m",
      "\u001b[0;31mTypeError\u001b[0m                                 Traceback (most recent call last)",
      "\u001b[0;32m<ipython-input-30-c28902db8bb1>\u001b[0m in \u001b[0;36m<module>\u001b[0;34m\u001b[0m\n\u001b[0;32m----> 1\u001b[0;31m \u001b[0mvalues\u001b[0m \u001b[0;34m=\u001b[0m \u001b[0mlist\u001b[0m\u001b[0;34m(\u001b[0m\u001b[0mdata\u001b[0m\u001b[0;34m.\u001b[0m\u001b[0mvalues\u001b[0m\u001b[0;34m(\u001b[0m\u001b[0;34m'0'\u001b[0m\u001b[0;34m)\u001b[0m\u001b[0;34m)\u001b[0m\u001b[0;34m\u001b[0m\u001b[0;34m\u001b[0m\u001b[0m\n\u001b[0m",
      "\u001b[0;31mTypeError\u001b[0m: values() takes no arguments (1 given)"
     ]
    }
   ],
   "source": [
    "values = list(data.values())"
   ]
  },
  {
   "cell_type": "code",
   "execution_count": 31,
   "metadata": {},
   "outputs": [
    {
     "ename": "TypeError",
     "evalue": "only size-1 arrays can be converted to Python scalars",
     "output_type": "error",
     "traceback": [
      "\u001b[0;31m---------------------------------------------------------------------------\u001b[0m",
      "\u001b[0;31mTypeError\u001b[0m                                 Traceback (most recent call last)",
      "\u001b[0;32m<ipython-input-31-39194eb9146a>\u001b[0m in \u001b[0;36m<module>\u001b[0;34m\u001b[0m\n\u001b[0;32m----> 1\u001b[0;31m \u001b[0msummarize\u001b[0m\u001b[0;34m(\u001b[0m\u001b[0mvalues\u001b[0m\u001b[0;34m)\u001b[0m\u001b[0;34m\u001b[0m\u001b[0;34m\u001b[0m\u001b[0m\n\u001b[0m",
      "\u001b[0;32m<ipython-input-9-51a45d7d8b7f>\u001b[0m in \u001b[0;36msummarize\u001b[0;34m(train_data)\u001b[0m\n\u001b[1;32m      1\u001b[0m \u001b[0;32mdef\u001b[0m \u001b[0msummarize\u001b[0m\u001b[0;34m(\u001b[0m\u001b[0mtrain_data\u001b[0m\u001b[0;34m)\u001b[0m\u001b[0;34m:\u001b[0m\u001b[0;34m\u001b[0m\u001b[0;34m\u001b[0m\u001b[0m\n\u001b[0;32m----> 2\u001b[0;31m         \u001b[0msummaries\u001b[0m \u001b[0;34m=\u001b[0m \u001b[0;34m[\u001b[0m\u001b[0;34m(\u001b[0m\u001b[0mmean\u001b[0m\u001b[0;34m(\u001b[0m\u001b[0mi\u001b[0m\u001b[0;34m)\u001b[0m\u001b[0;34m,\u001b[0m \u001b[0mstdev\u001b[0m\u001b[0;34m(\u001b[0m\u001b[0mi\u001b[0m\u001b[0;34m)\u001b[0m\u001b[0;34m)\u001b[0m \u001b[0;32mfor\u001b[0m \u001b[0mi\u001b[0m \u001b[0;32min\u001b[0m \u001b[0mzip\u001b[0m\u001b[0;34m(\u001b[0m\u001b[0;34m*\u001b[0m\u001b[0mtrain_data\u001b[0m\u001b[0;34m)\u001b[0m\u001b[0;34m]\u001b[0m\u001b[0;34m\u001b[0m\u001b[0;34m\u001b[0m\u001b[0m\n\u001b[0m",
      "\u001b[0;32m<ipython-input-9-51a45d7d8b7f>\u001b[0m in \u001b[0;36m<listcomp>\u001b[0;34m(.0)\u001b[0m\n\u001b[1;32m      1\u001b[0m \u001b[0;32mdef\u001b[0m \u001b[0msummarize\u001b[0m\u001b[0;34m(\u001b[0m\u001b[0mtrain_data\u001b[0m\u001b[0;34m)\u001b[0m\u001b[0;34m:\u001b[0m\u001b[0;34m\u001b[0m\u001b[0;34m\u001b[0m\u001b[0m\n\u001b[0;32m----> 2\u001b[0;31m         \u001b[0msummaries\u001b[0m \u001b[0;34m=\u001b[0m \u001b[0;34m[\u001b[0m\u001b[0;34m(\u001b[0m\u001b[0mmean\u001b[0m\u001b[0;34m(\u001b[0m\u001b[0mi\u001b[0m\u001b[0;34m)\u001b[0m\u001b[0;34m,\u001b[0m \u001b[0mstdev\u001b[0m\u001b[0;34m(\u001b[0m\u001b[0mi\u001b[0m\u001b[0;34m)\u001b[0m\u001b[0;34m)\u001b[0m \u001b[0;32mfor\u001b[0m \u001b[0mi\u001b[0m \u001b[0;32min\u001b[0m \u001b[0mzip\u001b[0m\u001b[0;34m(\u001b[0m\u001b[0;34m*\u001b[0m\u001b[0mtrain_data\u001b[0m\u001b[0;34m)\u001b[0m\u001b[0;34m]\u001b[0m\u001b[0;34m\u001b[0m\u001b[0;34m\u001b[0m\u001b[0m\n\u001b[0m",
      "\u001b[0;32m<ipython-input-22-3cb92841f5a1>\u001b[0m in \u001b[0;36mstdev\u001b[0;34m(X)\u001b[0m\n\u001b[1;32m      4\u001b[0m \u001b[0;32mdef\u001b[0m \u001b[0mstdev\u001b[0m\u001b[0;34m(\u001b[0m\u001b[0mX\u001b[0m\u001b[0;34m)\u001b[0m\u001b[0;34m:\u001b[0m\u001b[0;34m\u001b[0m\u001b[0;34m\u001b[0m\u001b[0m\n\u001b[1;32m      5\u001b[0m     \u001b[0mavg\u001b[0m \u001b[0;34m=\u001b[0m \u001b[0mmean\u001b[0m\u001b[0;34m(\u001b[0m\u001b[0mX\u001b[0m\u001b[0;34m)\u001b[0m\u001b[0;34m\u001b[0m\u001b[0;34m\u001b[0m\u001b[0m\n\u001b[0;32m----> 6\u001b[0;31m     \u001b[0;32mreturn\u001b[0m \u001b[0mmath\u001b[0m\u001b[0;34m.\u001b[0m\u001b[0msqrt\u001b[0m\u001b[0;34m(\u001b[0m\u001b[0msum\u001b[0m\u001b[0;34m(\u001b[0m\u001b[0;34m[\u001b[0m\u001b[0mpow\u001b[0m\u001b[0;34m(\u001b[0m\u001b[0mx\u001b[0m \u001b[0;34m-\u001b[0m \u001b[0mavg\u001b[0m\u001b[0;34m,\u001b[0m\u001b[0;36m2\u001b[0m\u001b[0;34m)\u001b[0m \u001b[0;32mfor\u001b[0m \u001b[0mx\u001b[0m \u001b[0;32min\u001b[0m \u001b[0mX\u001b[0m\u001b[0;34m]\u001b[0m\u001b[0;34m)\u001b[0m \u001b[0;34m/\u001b[0m \u001b[0mfloat\u001b[0m\u001b[0;34m(\u001b[0m\u001b[0mlen\u001b[0m\u001b[0;34m(\u001b[0m\u001b[0mX\u001b[0m\u001b[0;34m)\u001b[0m\u001b[0;34m)\u001b[0m\u001b[0;34m)\u001b[0m\u001b[0;34m\u001b[0m\u001b[0;34m\u001b[0m\u001b[0m\n\u001b[0m",
      "\u001b[0;31mTypeError\u001b[0m: only size-1 arrays can be converted to Python scalars"
     ]
    }
   ],
   "source": [
    "summarize(values)"
   ]
  },
  {
   "cell_type": "code",
   "execution_count": null,
   "metadata": {},
   "outputs": [],
   "source": []
  }
 ],
 "metadata": {
  "kernelspec": {
   "display_name": "Python 3",
   "language": "python",
   "name": "python3"
  },
  "language_info": {
   "codemirror_mode": {
    "name": "ipython",
    "version": 3
   },
   "file_extension": ".py",
   "mimetype": "text/x-python",
   "name": "python",
   "nbconvert_exporter": "python",
   "pygments_lexer": "ipython3",
   "version": "3.7.3"
  }
 },
 "nbformat": 4,
 "nbformat_minor": 2
}
